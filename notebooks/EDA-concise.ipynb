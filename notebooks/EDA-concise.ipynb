{
 "cells": [
  {
   "cell_type": "code",
   "execution_count": 1,
   "metadata": {
    "collapsed": false
   },
   "outputs": [],
   "source": [
    "from __future__ import division\n",
    "import glob\n",
    "import os\n",
    "import pandas as pd\n",
    "import numpy as np\n",
    "from scipy.stats import binned_statistic, linregress\n",
    "from scipy.stats import randint as sp_randint\n",
    "from sklearn.ensemble import RandomForestClassifier\n",
    "from sklearn.model_selection import GridSearchCV, RandomizedSearchCV, train_test_split\n",
    "import seaborn as sns\n",
    "import statsmodels.api as sm\n",
    "from IPython.display import clear_output, Image\n",
    "\n",
    "from s3_connect import s3_connect\n",
    "\n",
    "import plotly.plotly as py\n",
    "import plotly.graph_objs as go\n",
    "from plotly.offline import download_plotlyjs, init_notebook_mode, plot, iplot\n",
    "\n",
    "from EDA_plotting_functions import (make_kdeplot, default_rate_binned_barplot, default_rate_categorical_barplot, \n",
    "                                   default_rate_by_state)\n",
    "\n",
    "init_notebook_mode(connected=True)\n",
    "\n",
    "tmp_localdir = '~/'\n",
    "\n",
    "pd.options.display.max_columns = 999\n",
    "\n",
    "%pylab inline\n",
    "clear_output()"
   ]
  },
  {
   "cell_type": "code",
   "execution_count": 2,
   "metadata": {
    "collapsed": true
   },
   "outputs": [],
   "source": [
    "def default_rate_by_state(df):\n",
    "    \"\"\"Creates a choropleth for default rate per state\"\"\"\n",
    "    state_defaults = df.groupby('addr_state').mean()['default']\n",
    "\n",
    "    scl = [[0.0, 'rgb(242,240,247)'],[0.2, 'rgb(218,218,235)'],[0.4, 'rgb(188,189,220)'],\\\n",
    "                [0.6, 'rgb(158,154,200)'],[0.8, 'rgb(117,107,177)'],[1.0, 'rgb(84,39,143)']]\n",
    "\n",
    "    data = [ dict(\n",
    "            type='choropleth',\n",
    "            colorscale = scl,\n",
    "            autocolorscale = False,\n",
    "            locations = state_defaults.index,\n",
    "            z = state_defaults,\n",
    "            locationmode = 'USA-states',\n",
    "    #         text = df['text'],\n",
    "            marker = dict(\n",
    "                line = dict (\n",
    "                    color = 'rgb(255,255,255)',\n",
    "                    width = 2\n",
    "                ) ),\n",
    "            colorbar = dict(\n",
    "                title = \"Default Rate\")\n",
    "            ) ]\n",
    "\n",
    "    layout = dict(\n",
    "            title = 'Default Rates by State',\n",
    "            geo = dict(\n",
    "                scope='usa',\n",
    "                projection=dict( type='albers usa' ),\n",
    "                showlakes = True,\n",
    "                lakecolor = 'rgb(255, 255, 255)'),\n",
    "            yaxis = {'fixedrange': True},\n",
    "            xaxis = {'fixedrange': True}\n",
    "                 )\n",
    "\n",
    "    return dict( data=data, layout=layout )"
   ]
  },
  {
   "cell_type": "markdown",
   "metadata": {},
   "source": [
    "# Quick Exploratory Data Analysis\n",
    "\n",
    "Let's explore relationship between features and default rates. Although the Lending Club dataset contains hundreds of features for each loan, we chose to include only the most influential features for simplisticities sake."
   ]
  },
  {
   "cell_type": "code",
   "execution_count": 3,
   "metadata": {
    "collapsed": false
   },
   "outputs": [],
   "source": [
    "s3_conn = s3_connect(access=os.environ['AWS_CLOUD_BUCKET_KEY'],\n",
    "                     secret=os.environ['AWS_CLOUD_BUCKET_SECRET_KEY'],\n",
    "                     bucketname='ds-cloud-public-shared')\n",
    "\n",
    "df = s3_conn.pull_pickle_from_s3(key='demos/loan-risk/data/raw_data.p',tmp_localdir=tmp_localdir)\n",
    "clear_output()"
   ]
  },
  {
   "cell_type": "markdown",
   "metadata": {},
   "source": [
    "## Interest Rate\n",
    "Since Lending Club uses credit scores (among other variables) to determine interest rates, much the signal related to default risk is already baked into interest rates.  "
   ]
  },
  {
   "cell_type": "code",
   "execution_count": 4,
   "metadata": {
    "collapsed": false
   },
   "outputs": [
    {
     "data": {
      "text/html": [
       "<iframe id=\"igraph\" scrolling=\"no\" style=\"border:none;\" seamless=\"seamless\" src=\"https://plot.ly/~bretto777/2905.embed\" height=\"525px\" width=\"100%\"></iframe>"
      ],
      "text/plain": [
       "<plotly.tools.PlotlyDisplay object>"
      ]
     },
     "execution_count": 4,
     "metadata": {},
     "output_type": "execute_result"
    }
   ],
   "source": [
    "fig = default_rate_binned_barplot(df=df, feature='int_rate', bins=20, xlabel='Interest Rate',\n",
    "                     title='Default rate strongly correlates with interest rate')\n",
    "py.iplot(fig)"
   ]
  },
  {
   "cell_type": "markdown",
   "metadata": {},
   "source": [
    "## Debt to Income\n",
    "Debt to Income (DTI) quantifies how much debt a borrower has as a fraction of their annual income. The higher the DTI, the less likely the borrower will be able to pay back the loan."
   ]
  },
  {
   "cell_type": "code",
   "execution_count": 5,
   "metadata": {
    "collapsed": false
   },
   "outputs": [
    {
     "data": {
      "text/html": [
       "<iframe id=\"igraph\" scrolling=\"no\" style=\"border:none;\" seamless=\"seamless\" src=\"https://plot.ly/~bretto777/2907.embed\" height=\"525px\" width=\"100%\"></iframe>"
      ],
      "text/plain": [
       "<plotly.tools.PlotlyDisplay object>"
      ]
     },
     "execution_count": 5,
     "metadata": {},
     "output_type": "execute_result"
    }
   ],
   "source": [
    "fig = default_rate_binned_barplot(df=df.ix[df['dti']<40], feature='dti',bins=30, xlabel='Debt to Income Ratio', title='Debt to income ratio is highly correlated with default rate')\n",
    "py.iplot(fig)"
   ]
  },
  {
   "cell_type": "markdown",
   "metadata": {},
   "source": [
    "## Interest Rate and DTI Interaction\n",
    "Reporting multivariate figures can also be useful in understanding interactions between features. After all, complex events like defaults are rarely explained by a single variable.\n",
    "\n",
    "Below is a kernel density estimation (KDE) plot that highlights the location of defaults in 2D space. Darker colors illustrate clusters of high default loans, while brighter colors illustrate clusters of low default loans.\n",
    "\n",
    "Three insights can be derived from this figure\n",
    "* As expected, loans with high interest rates and DTI are the riskiest. \n",
    "* Having a high DTI less risky if the interest rate is low, and vise versa.  \n",
    "* Interestingly, having a moderate DTI (10-15%) is **less** risky than a low DTI (0-10%) when interest rates are <15%. "
   ]
  },
  {
   "cell_type": "code",
   "execution_count": 6,
   "metadata": {
    "collapsed": true
   },
   "outputs": [],
   "source": [
    "from scipy.stats import binned_statistic, linregress, gaussian_kde\n",
    "def kde_scipy( vals1, vals2, (a,b), (c,d), N ):\n",
    "\n",
    "    x=np.linspace(a,b,N)\n",
    "    y=np.linspace(c,d,N)\n",
    "    X,Y=np.meshgrid(x,y)\n",
    "    positions = np.vstack([Y.ravel(), X.ravel()])\n",
    "\n",
    "    values = np.vstack([vals1, vals2])\n",
    "    kernel = gaussian_kde(values)\n",
    "    Z = np.reshape(kernel(positions).T, X.shape)\n",
    "\n",
    "    return [x, y, Z]\n",
    "\n",
    "def make_kdeplot((varX1, varY1), (varX2, varY2), (a,b), (c,d), N, colorsc, title, x_label, y_label):\n",
    "    #varX, varY are lists, 1d numpy.array(s), or dataframe columns, storing the values of two variables\n",
    "\n",
    "    x1, y1, Z1 = kde_scipy(varY1, varX1, (a,b), (c,d), N )\n",
    "    x2, y2, Z2 = kde_scipy(varY2, varX2, (a,b), (c,d), N )\n",
    "\n",
    "    data = go.Data([\n",
    "       go.Contour(\n",
    "           z=Z2-Z1,\n",
    "           x=x1,\n",
    "           y=y1,\n",
    "           colorscale='Hot',\n",
    "           reversescale=True,\n",
    "           opacity=0.9,\n",
    "           contours=go.Contours(\n",
    "               showlines=False) )\n",
    "     ])\n",
    "\n",
    "    layout = go.Layout(\n",
    "        title= title,\n",
    "        font= go.Font(family='Georgia, serif',  color='#635F5D'),\n",
    "        showlegend=False,\n",
    "        autosize=False,\n",
    "        width=650,\n",
    "        height=650,\n",
    "        xaxis=go.XAxis(\n",
    "            range=[a,b],\n",
    "            showgrid=False,\n",
    "            nticks=7,\n",
    "            title=x_label\n",
    "        ),\n",
    "        yaxis=go.YAxis(\n",
    "            range=[c,d],\n",
    "            showgrid=False,\n",
    "            nticks=7,\n",
    "            title=y_label\n",
    "        ),\n",
    "        margin=go.Margin(\n",
    "            l=40,\n",
    "            r=40,\n",
    "            b=85,\n",
    "            t=100,\n",
    "        ),\n",
    "        \n",
    "        annotations=[\n",
    "        dict(\n",
    "            x=7.9,\n",
    "            y=13.43,\n",
    "            xref='x',\n",
    "            yref='y',\n",
    "            text='Low Risk 👍',\n",
    "            showarrow=True,\n",
    "            arrowhead=0.2,\n",
    "            ax=20,\n",
    "            ay=30,\n",
    "            bgcolor='rgb(240,240,240)',\n",
    "            bordercolor='rgb(0,0,0)',\n",
    "            font=dict(size=14)\n",
    "        ),\n",
    "        dict(\n",
    "            x=18.2,\n",
    "            y=20.7,\n",
    "            xref='x',\n",
    "            yref='y',\n",
    "            text='High Risk 👎',\n",
    "            showarrow=True,\n",
    "            arrowhead=0.2,\n",
    "            ax=20,\n",
    "            ay=30,\n",
    "            bgcolor='rgb(240,240,240)',\n",
    "            bordercolor='rgb(0,0,0)',\n",
    "            font=dict(size=14)                \n",
    "        )]\n",
    "    )\n",
    "\n",
    "    return go.Figure( data=data, layout=layout )"
   ]
  },
  {
   "cell_type": "code",
   "execution_count": 7,
   "metadata": {
    "collapsed": false
   },
   "outputs": [
    {
     "data": {
      "text/html": [
       "<iframe id=\"igraph\" scrolling=\"no\" style=\"border:none;\" seamless=\"seamless\" src=\"https://plot.ly/~bretto777/2749.embed\" height=\"650px\" width=\"650px\"></iframe>"
      ],
      "text/plain": [
       "<plotly.tools.PlotlyDisplay object>"
      ]
     },
     "execution_count": 7,
     "metadata": {},
     "output_type": "execute_result"
    }
   ],
   "source": [
    "N = 20000\n",
    "dti_upper_limit = 40\n",
    "\n",
    "cubehelix_cs = [[0.0, '#fcf9f7'],\n",
    "                [0.16666666666666666, '#edcfc9'],\n",
    "                [0.3333333333333333, '#daa2ac'],\n",
    "                [0.5, '#bc7897'],\n",
    "                [0.6666666666666666, '#925684'],\n",
    "                [0.8333333333333333, '#5f3868'],\n",
    "                [1.0, '#2d1e3e']]\n",
    "\n",
    "\n",
    "df_default = df.ix[(df['default']==1) & (df['dti']<=dti_upper_limit)].sample(N,random_state=6)\n",
    "df_paid = df.ix[(df['default']==0) & (df['dti']<=dti_upper_limit)].sample(N,random_state=6)\n",
    "\n",
    "fig = make_kdeplot((df_paid['int_rate'], df_paid['dti']),\n",
    "             (df_default['int_rate'], df_default['dti']),\n",
    "             (0.1, 25),\n",
    "             (0.1, 25),\n",
    "             100, cubehelix_cs,\n",
    "             x_label='Interest Rate (%)',\n",
    "             y_label='Debt to Income Ratio',\n",
    "             title='Interaction effect of DTI and Interest Rate on Default Rate' )\n",
    "\n",
    "py.iplot(fig, filename='kde-2D-CSCE')"
   ]
  },
  {
   "cell_type": "markdown",
   "metadata": {},
   "source": [
    "## State\n",
    "\n",
    "We can also break down default rates by state. Interestingly, Mississippi and Nebraska have the highest default rates."
   ]
  },
  {
   "cell_type": "code",
   "execution_count": 8,
   "metadata": {
    "collapsed": false
   },
   "outputs": [
    {
     "data": {
      "text/html": [
       "<iframe id=\"igraph\" scrolling=\"no\" style=\"border:none;\" seamless=\"seamless\" src=\"https://plot.ly/~bretto777/2909.embed\" height=\"525px\" width=\"100%\"></iframe>"
      ],
      "text/plain": [
       "<plotly.tools.PlotlyDisplay object>"
      ]
     },
     "execution_count": 8,
     "metadata": {},
     "output_type": "execute_result"
    }
   ],
   "source": [
    "fig = default_rate_by_state(df)\n",
    "py.iplot(fig)"
   ]
  },
  {
   "cell_type": "markdown",
   "metadata": {},
   "source": [
    "### <a href=\"https://demo.datascience.com/project/optimizing-your-investment-strategy/outputs/eda-deep-dive-UG9zdFR5cGU6MTU5\" target=\"_blank\">For a more comprehensive deep dive into EDA with Plotly, check out this report.</a>"
   ]
  },
  {
   "cell_type": "markdown",
   "metadata": {},
   "source": [
    "## Next Step: Build a Model\n",
    "Now that we've gotten a feel for what some of the Lending Club features, let's use these data to build a model that can predict the probability of default. \n",
    "\n",
    "To do this, we will **launch a notebook container** with the following specifications:\n",
    "* Tool: Jupyter\n",
    "* Compute Resources: 8 GB / 2 CPU\n",
    "* Dependency Collection: Standard\n",
    "\n",
    "And then open file `build_model.ipynb` to build our model."
   ]
  }
 ],
 "metadata": {
  "kernelspec": {
   "display_name": "Python 2",
   "language": "python",
   "name": "python2"
  },
  "language_info": {
   "codemirror_mode": {
    "name": "ipython",
    "version": 2
   },
   "file_extension": ".py",
   "mimetype": "text/x-python",
   "name": "python",
   "nbconvert_exporter": "python",
   "pygments_lexer": "ipython2",
   "version": "2.7.13"
  }
 },
 "nbformat": 4,
 "nbformat_minor": 2
}
