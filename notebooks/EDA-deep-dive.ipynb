{
 "cells": [
  {
   "cell_type": "code",
   "execution_count": 1,
   "metadata": {
    "collapsed": false
   },
   "outputs": [],
   "source": [
    "from __future__ import division\n",
    "import glob\n",
    "import os\n",
    "import pandas as pd\n",
    "import numpy as np\n",
    "from scipy.stats import binned_statistic\n",
    "from IPython.display import clear_output, Image\n",
    "\n",
    "from s3_connect import s3_connect\n",
    "\n",
    "import plotly.plotly as py\n",
    "import plotly.graph_objs as go\n",
    "from plotly.offline import download_plotlyjs, init_notebook_mode, plot, iplot\n",
    "\n",
    "tmp_localdir = '~/'\n",
    "\n",
    "init_notebook_mode(connected=True)\n",
    "\n",
    "pd.options.display.max_columns = 999\n",
    "\n",
    "%pylab inline\n",
    "clear_output()"
   ]
  },
  {
   "cell_type": "code",
   "execution_count": 3,
   "metadata": {
    "collapsed": true
   },
   "outputs": [],
   "source": [
    "### Function for plotting KDE difference heatmap\n",
    "cubehelix_cs=[[0.0, '#fcf9f7'],\n",
    " [0.16666666666666666, '#edcfc9'],\n",
    " [0.3333333333333333, '#daa2ac'],\n",
    " [0.5, '#bc7897'],\n",
    " [0.6666666666666666, '#925684'],\n",
    " [0.8333333333333333, '#5f3868'],\n",
    " [1.0, '#2d1e3e']]\n",
    "\n",
    "def make_kdeplot((varX1, varY1), (varX2, varY2), (a,b), (c,d), N, colorsc, title, x_label, y_label):\n",
    "    #varX, varY are lists, 1d numpy.array(s), or dataframe columns, storing the values of two variables\n",
    "\n",
    "    x1, y1, Z1 = kde_scipy(varY1, varX1, (a,b), (c,d), N )\n",
    "    x2, y2, Z2 = kde_scipy(varY2, varX2, (a,b), (c,d), N )    \n",
    "\n",
    "    data = go.Data([\n",
    "       go.Contour(\n",
    "           z=Z2-Z1,\n",
    "           x=x1,\n",
    "           y=y1,\n",
    "           colorscale='Hot',\n",
    "           reversescale=True,\n",
    "           opacity=0.9,\n",
    "           contours=go.Contours(\n",
    "               showlines=False)\n",
    "        ),\n",
    "     ])\n",
    "\n",
    "    layout = go.Layout(\n",
    "        title= title,\n",
    "        font= go.Font(family='Georgia, serif',  color='#635F5D'),\n",
    "        showlegend=False,\n",
    "        autosize=False,\n",
    "        width=650,\n",
    "        height=650,\n",
    "        xaxis=go.XAxis(\n",
    "            range=[a,b],\n",
    "            showgrid=False,\n",
    "            nticks=7,\n",
    "            title=x_label\n",
    "        ),\n",
    "        yaxis=go.YAxis(\n",
    "            range=[c,d],\n",
    "            showgrid=False,\n",
    "            nticks=7,\n",
    "            title=y_label\n",
    "        ),\n",
    "        margin=go.Margin(\n",
    "            l=40,\n",
    "            r=40,\n",
    "            b=85,\n",
    "            t=100,\n",
    "        ),\n",
    "    )\n",
    "\n",
    "    return go.Figure( data=data, layout=layout )"
   ]
  },
  {
   "cell_type": "code",
   "execution_count": 2,
   "metadata": {
    "collapsed": false,
    "scrolled": true
   },
   "outputs": [],
   "source": [
    "s3_conn = s3_connect(access=os.environ['AWS_CLOUD_BUCKET_KEY'],\n",
    "                     secret=os.environ['AWS_CLOUD_BUCKET_SECRET_KEY'],\n",
    "                     bucketname='ds-cloud-public-shared')\n",
    "\n",
    "df = s3_conn.pull_pickle_from_s3(key='demos/loan-risk/data/raw_data.p',tmp_localdir=tmp_localdir)\n",
    "clear_output()"
   ]
  },
  {
   "cell_type": "markdown",
   "metadata": {},
   "source": [
    "# Exploratory Data Analysis Deep Dive\n",
    "Let's explore the relationship between following features and default rates."
   ]
  },
  {
   "cell_type": "code",
   "execution_count": 4,
   "metadata": {
    "collapsed": false
   },
   "outputs": [],
   "source": [
    "def split_bin_data(df, feature, bins):\n",
    "    # Split data into default vs paid dataframes\n",
    "    df_paid = df.loc[df['default']==0]\n",
    "    df_default = df.loc[df['default']==1]\n",
    "    \n",
    "    # Bin feature\n",
    "    paid_bins = np.histogram(df_paid[feature],bins=bins)\n",
    "    default_bins = np.histogram(df_default[feature], bins=bins)\n",
    "    \n",
    "    return paid_bins, default_bins\n",
    "\n",
    "# Plotting continuous feature vs default rate \n",
    "def default_rate_binned_barplot(df, feature, bins, xlabel, title):\n",
    "    \"\"\"Makes a barplot of a specified feature on the x-axis vs default rate on the y-axis.\n",
    "       The independent variable is a continuous variable which is binned into bars.\n",
    "       The dependent variable is the proportion of defaults within each bin.\"\"\"\n",
    "\n",
    "    # Split data into default vs paid dataframes and bin\n",
    "    paid_bins, default_bins = split_bin_data(df, feature, bins)\n",
    "    \n",
    "    # Make plotly figure\n",
    "    data = [\n",
    "    go.Bar(\n",
    "    x=paid_bins[1],\n",
    "    y=default_bins[0] / (default_bins[0]+paid_bins[0])\n",
    "    )]\n",
    "\n",
    "    layout = go.Layout(\n",
    "        title=title,\n",
    "        xaxis={'title':xlabel},\n",
    "        yaxis={'title':'Default Rate'}\n",
    "              \n",
    "    )\n",
    "\n",
    "    return go.Figure(data=data, layout=layout)\n",
    "\n",
    "    \n",
    "# Plotting continuous feature vs default rate\n",
    "def default_rate_scatter(df, feature, bins, xlabel, title):\n",
    "    \"\"\"Makes a barplot of a specified feature on the x-axis vs default rate on the y-axis.\n",
    "       The independent variable is a continuous variable which is binned into bars.\n",
    "       The dependent variable is the proportion of defaults within each bin.\"\"\"\n",
    "\n",
    "    # Split data into default vs paid dataframes and bin\n",
    "    paid_bins, default_bins = split_bin_data(df, feature, bins)\n",
    "    \n",
    "    # Make plotly figure\n",
    "    trace = go.Scatter(\n",
    "        x = paid_bins[1],\n",
    "        y = default_bins[0] / (default_bins[0]+paid_bins[0]),\n",
    "        mode = 'markers'\n",
    "    )\n",
    "\n",
    "    data = [trace]\n",
    "\n",
    "    # Plot and embed in ipython notebook!\n",
    "    return go.Figure(data=data)\n",
    "    \n",
    "\n",
    "# Plotting categorical feature vs default rate\n",
    "def default_rate_categorical_barplot(df, feature, xlabel, title):\n",
    "    \"\"\"Makes a barplot of a specified feature on the x-axis vs default rate on the y-axis.\n",
    "       The independent variable is the categories of the feature.\n",
    "       The dependent variable is the proportion of defaults within each categorical.\"\"\"\n",
    "\n",
    "    # Split data into default vs paid dataframes and bin\n",
    "    df_grouped = df.groupby(feature).mean()['default'].sort_values()\n",
    "    \n",
    "    # Make plotly figure\n",
    "    data = [\n",
    "    go.Bar(\n",
    "    x=df_grouped.index,\n",
    "    y=df_grouped\n",
    "    )]\n",
    "\n",
    "    layout = go.Layout(\n",
    "        title=title,\n",
    "        xaxis={'title':xlabel},\n",
    "        yaxis={'title':'Default Rate'}\n",
    "              \n",
    "    )\n",
    "\n",
    "    return go.Figure(data=data, layout=layout)\n",
    "    \n",
    "    \n",
    "def default_rate_by_state(df):\n",
    "    \"\"\"Creates a choropleth for default rate per state\"\"\"\n",
    "    state_defaults = df.groupby('addr_state').mean()['default']\n",
    "\n",
    "    scl = [[0.0, 'rgb(242,240,247)'],[0.2, 'rgb(218,218,235)'],[0.4, 'rgb(188,189,220)'],\\\n",
    "                [0.6, 'rgb(158,154,200)'],[0.8, 'rgb(117,107,177)'],[1.0, 'rgb(84,39,143)']]\n",
    "\n",
    "    data = [ dict(\n",
    "            type='choropleth',\n",
    "            colorscale = scl,\n",
    "            autocolorscale = False,\n",
    "            locations = state_defaults.index,\n",
    "            z = state_defaults,\n",
    "            locationmode = 'USA-states',\n",
    "    #         text = df['text'],\n",
    "            marker = dict(\n",
    "                line = dict (\n",
    "                    color = 'rgb(255,255,255)',\n",
    "                    width = 2\n",
    "                ) ),\n",
    "            colorbar = dict(\n",
    "                title = \"Default Rate\")\n",
    "            ) ]\n",
    "\n",
    "    layout = dict(\n",
    "            title = 'Default Rates by State',\n",
    "            geo = dict(\n",
    "                scope='usa',\n",
    "                projection=dict( type='albers usa' ),\n",
    "                showlakes = True,\n",
    "                lakecolor = 'rgb(255, 255, 255)'),\n",
    "            yaxis = {'fixedrange': True},\n",
    "            xaxis = {'fixedrange': True}\n",
    "                 )\n",
    "\n",
    "    return dict( data=data, layout=layout )"
   ]
  },
  {
   "cell_type": "markdown",
   "metadata": {},
   "source": [
    "1. Loan Amount\n",
    "3. Interest Rate\n",
    "4. Term (Loan Length)\n",
    "5. Purpose of Loan\n",
    "6. Debt/Income Ratio\n",
    "7. State\n",
    "8. Rent or Own Home\n",
    "9. Annual Income\n",
    "10. 30+ days past-due incidences of delinquency in the borrower's credit file for the past 2 years\n",
    "15. Credit Lines Open"
   ]
  },
  {
   "cell_type": "markdown",
   "metadata": {},
   "source": [
    "## 1. Amount Requested"
   ]
  },
  {
   "cell_type": "code",
   "execution_count": 20,
   "metadata": {
    "collapsed": false,
    "scrolled": false
   },
   "outputs": [
    {
     "data": {
      "text/html": [
       "<iframe id=\"igraph\" scrolling=\"no\" style=\"border:none;\" seamless=\"seamless\" src=\"https://plot.ly/~bretto777/2879.embed\" height=\"525px\" width=\"100%\"></iframe>"
      ],
      "text/plain": [
       "<plotly.tools.PlotlyDisplay object>"
      ]
     },
     "execution_count": 20,
     "metadata": {},
     "output_type": "execute_result"
    }
   ],
   "source": [
    "fig = default_rate_binned_barplot(df=df, feature='loan_amnt', bins=20, xlabel='Loan Amount',\n",
    "                     title='Lower loan amounts have a slightly higher incidence of defaults')\n",
    "\n",
    "py.iplot(fig)"
   ]
  },
  {
   "cell_type": "markdown",
   "metadata": {},
   "source": [
    "## 2. Interest Rate"
   ]
  },
  {
   "cell_type": "code",
   "execution_count": 21,
   "metadata": {
    "collapsed": false
   },
   "outputs": [
    {
     "data": {
      "text/html": [
       "<iframe id=\"igraph\" scrolling=\"no\" style=\"border:none;\" seamless=\"seamless\" src=\"https://plot.ly/~bretto777/2881.embed\" height=\"525px\" width=\"100%\"></iframe>"
      ],
      "text/plain": [
       "<plotly.tools.PlotlyDisplay object>"
      ]
     },
     "execution_count": 21,
     "metadata": {},
     "output_type": "execute_result"
    }
   ],
   "source": [
    "fig = default_rate_binned_barplot(df=df, feature='int_rate', bins=20, xlabel='Interest Rate',\n",
    "                     title='Default rate strongly correlates with interest rate')\n",
    "py.iplot(fig)"
   ]
  },
  {
   "cell_type": "markdown",
   "metadata": {},
   "source": [
    "## 3. Loan Term"
   ]
  },
  {
   "cell_type": "code",
   "execution_count": 22,
   "metadata": {
    "collapsed": false
   },
   "outputs": [
    {
     "data": {
      "text/html": [
       "<iframe id=\"igraph\" scrolling=\"no\" style=\"border:none;\" seamless=\"seamless\" src=\"https://plot.ly/~bretto777/2883.embed\" height=\"525px\" width=\"100%\"></iframe>"
      ],
      "text/plain": [
       "<plotly.tools.PlotlyDisplay object>"
      ]
     },
     "execution_count": 22,
     "metadata": {},
     "output_type": "execute_result"
    }
   ],
   "source": [
    "fig = default_rate_categorical_barplot(df=df, feature='term',xlabel='Loan Term', title='Longer loans have higher default rates')\n",
    "py.iplot(fig)"
   ]
  },
  {
   "cell_type": "markdown",
   "metadata": {},
   "source": [
    "## 4. Purpose"
   ]
  },
  {
   "cell_type": "code",
   "execution_count": 23,
   "metadata": {
    "collapsed": false
   },
   "outputs": [
    {
     "data": {
      "text/html": [
       "<iframe id=\"igraph\" scrolling=\"no\" style=\"border:none;\" seamless=\"seamless\" src=\"https://plot.ly/~bretto777/2885.embed\" height=\"525px\" width=\"100%\"></iframe>"
      ],
      "text/plain": [
       "<plotly.tools.PlotlyDisplay object>"
      ]
     },
     "execution_count": 23,
     "metadata": {},
     "output_type": "execute_result"
    }
   ],
   "source": [
    "default_rate_categorical_barplot(df=df, feature='purpose',xlabel='Purpose', title='Business loans are the most risky while wedding loans are the least risky')\n",
    "py.iplot(fig)"
   ]
  },
  {
   "cell_type": "markdown",
   "metadata": {},
   "source": [
    "## 5. Debt to Income"
   ]
  },
  {
   "cell_type": "code",
   "execution_count": 24,
   "metadata": {
    "collapsed": false
   },
   "outputs": [
    {
     "data": {
      "text/html": [
       "<iframe id=\"igraph\" scrolling=\"no\" style=\"border:none;\" seamless=\"seamless\" src=\"https://plot.ly/~bretto777/2887.embed\" height=\"525px\" width=\"100%\"></iframe>"
      ],
      "text/plain": [
       "<plotly.tools.PlotlyDisplay object>"
      ]
     },
     "execution_count": 24,
     "metadata": {},
     "output_type": "execute_result"
    }
   ],
   "source": [
    "fig = default_rate_binned_barplot(df=df.loc[df['dti']<40], feature='dti',bins=30, xlabel='Debt to Income Ratio', title='Debt to income ratio is highly correlated with default rate')\n",
    "py.iplot(fig)"
   ]
  },
  {
   "cell_type": "markdown",
   "metadata": {},
   "source": [
    "## 6. State"
   ]
  },
  {
   "cell_type": "code",
   "execution_count": 25,
   "metadata": {
    "collapsed": false
   },
   "outputs": [
    {
     "data": {
      "text/html": [
       "<iframe id=\"igraph\" scrolling=\"no\" style=\"border:none;\" seamless=\"seamless\" src=\"https://plot.ly/~bretto777/2889.embed\" height=\"525px\" width=\"100%\"></iframe>"
      ],
      "text/plain": [
       "<plotly.tools.PlotlyDisplay object>"
      ]
     },
     "execution_count": 25,
     "metadata": {},
     "output_type": "execute_result"
    }
   ],
   "source": [
    "fig = default_rate_categorical_barplot(df=df, feature='addr_state',xlabel='States', title='Default Rate by State')\n",
    "py.iplot(fig)"
   ]
  },
  {
   "cell_type": "code",
   "execution_count": 31,
   "metadata": {
    "collapsed": false
   },
   "outputs": [
    {
     "data": {
      "text/html": [
       "<iframe id=\"igraph\" scrolling=\"no\" style=\"border:none;\" seamless=\"seamless\" src=\"https://plot.ly/~bretto777/2901.embed\" height=\"525px\" width=\"100%\"></iframe>"
      ],
      "text/plain": [
       "<plotly.tools.PlotlyDisplay object>"
      ]
     },
     "execution_count": 31,
     "metadata": {},
     "output_type": "execute_result"
    }
   ],
   "source": [
    "fig = default_rate_by_state(df)\n",
    "py.iplot(fig)"
   ]
  },
  {
   "cell_type": "markdown",
   "metadata": {},
   "source": [
    "## 7. Home Ownership"
   ]
  },
  {
   "cell_type": "code",
   "execution_count": 27,
   "metadata": {
    "collapsed": false
   },
   "outputs": [
    {
     "data": {
      "text/html": [
       "<iframe id=\"igraph\" scrolling=\"no\" style=\"border:none;\" seamless=\"seamless\" src=\"https://plot.ly/~bretto777/2893.embed\" height=\"525px\" width=\"100%\"></iframe>"
      ],
      "text/plain": [
       "<plotly.tools.PlotlyDisplay object>"
      ]
     },
     "execution_count": 27,
     "metadata": {},
     "output_type": "execute_result"
    }
   ],
   "source": [
    "fig = default_rate_categorical_barplot(df=df.loc[df['home_ownership'].map(lambda x: x in ['MORTGAGE','RENT','OWN'])], \n",
    "                                 feature='home_ownership',xlabel='Home Ownership', title='Renters have the highest default rate')\n",
    "py.iplot(fig)"
   ]
  },
  {
   "cell_type": "markdown",
   "metadata": {},
   "source": [
    "## 8. Annual Income "
   ]
  },
  {
   "cell_type": "code",
   "execution_count": 28,
   "metadata": {
    "collapsed": false
   },
   "outputs": [
    {
     "data": {
      "text/html": [
       "<iframe id=\"igraph\" scrolling=\"no\" style=\"border:none;\" seamless=\"seamless\" src=\"https://plot.ly/~bretto777/2895.embed\" height=\"525px\" width=\"100%\"></iframe>"
      ],
      "text/plain": [
       "<plotly.tools.PlotlyDisplay object>"
      ]
     },
     "execution_count": 28,
     "metadata": {},
     "output_type": "execute_result"
    }
   ],
   "source": [
    "fig = default_rate_binned_barplot(df=df.loc[df['annual_inc']<300000], feature='annual_inc',bins=50, xlabel='Debt to Income Ratio', title='Default rate generally decreases with annual income')\n",
    "py.iplot(fig)"
   ]
  },
  {
   "cell_type": "markdown",
   "metadata": {},
   "source": [
    "## 9. Number of delinquencies in past 2 years"
   ]
  },
  {
   "cell_type": "code",
   "execution_count": 29,
   "metadata": {
    "collapsed": false
   },
   "outputs": [
    {
     "data": {
      "text/html": [
       "<iframe id=\"igraph\" scrolling=\"no\" style=\"border:none;\" seamless=\"seamless\" src=\"https://plot.ly/~bretto777/2897.embed\" height=\"525px\" width=\"100%\"></iframe>"
      ],
      "text/plain": [
       "<plotly.tools.PlotlyDisplay object>"
      ]
     },
     "execution_count": 29,
     "metadata": {},
     "output_type": "execute_result"
    }
   ],
   "source": [
    "fig = default_rate_categorical_barplot(df=df.loc[df['delinq_2yrs']<10], feature='delinq_2yrs', xlabel='Debt to Income Ratio', title='Generally higher default rates for 2+ delinquencies')\n",
    "py.iplot(fig)"
   ]
  },
  {
   "cell_type": "markdown",
   "metadata": {},
   "source": [
    "## 10. Open credit lines"
   ]
  },
  {
   "cell_type": "code",
   "execution_count": 30,
   "metadata": {
    "collapsed": false
   },
   "outputs": [
    {
     "data": {
      "text/html": [
       "<iframe id=\"igraph\" scrolling=\"no\" style=\"border:none;\" seamless=\"seamless\" src=\"https://plot.ly/~bretto777/2899.embed\" height=\"525px\" width=\"100%\"></iframe>"
      ],
      "text/plain": [
       "<plotly.tools.PlotlyDisplay object>"
      ]
     },
     "execution_count": 30,
     "metadata": {},
     "output_type": "execute_result"
    }
   ],
   "source": [
    "fig = default_rate_categorical_barplot(df=df.loc[df['open_acc']<40], feature='open_acc', xlabel='Open Credit Lines', title='Higher default rates for borrowers with 0 credit lines')\n",
    "py.iplot(fig)"
   ]
  }
 ],
 "metadata": {
  "kernelspec": {
   "display_name": "Python 2",
   "language": "python",
   "name": "python2"
  },
  "language_info": {
   "codemirror_mode": {
    "name": "ipython",
    "version": 2
   },
   "file_extension": ".py",
   "mimetype": "text/x-python",
   "name": "python",
   "nbconvert_exporter": "python",
   "pygments_lexer": "ipython2",
   "version": "2.7.13"
  }
 },
 "nbformat": 4,
 "nbformat_minor": 2
}
