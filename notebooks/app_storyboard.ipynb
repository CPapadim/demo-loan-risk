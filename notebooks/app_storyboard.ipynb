{
 "cells": [
  {
   "cell_type": "markdown",
   "metadata": {},
   "source": [
    "# Mode: without ML\n",
    "\n",
    "## Select Mode\n",
    "|Without ML|With ML|Optimized|\n",
    "|---|---|---|\n",
    "|☑️| | | |\n",
    "\n",
    "## Filters\n",
    "|Loan Amount|\n",
    "|---|\n",
    "|<5k, <10k, <15k, <20k, <25k, <30k, <35k|\n",
    "\n",
    "\n",
    "## Available Loans\n",
    "|Bank Roll|\n",
    "|---|\n",
    "|100k*|\n",
    "\n",
    "| |ID|Loan Amount|Int Rate|DTI|Rev Util|Annual Income|Deliquencies|Home Ownership|Open Accts|Purpose|Term|\n",
    "|---|---|---|---|---|---|---|---|---|   |\n",
    "|  |  |Float|Float|Float|Float|Float|Int|Own/Mortage/Rent|Int|_See below_**|30 months / 60 months|\n",
    "|☑️|1|   |   |   |   |   |   |   |   |   |   |\n",
    "| |2|   |   |   |   |   |   |   |   |   |   |\n",
    "|☑️|3|   |   |   |   |   |   |   |   |   |   |   |\n",
    "\n",
    "*\"Loan Amount\" is subtracted from bank roll whenever a loan is selected. Do not allow any more loan selections if \"loan amount\" exceeds curent bank roll.\n",
    "\n",
    "**Purpose: wedding, car, educational, credit_card, major_purchase, home_improvement, vacation, debt_consolidation, house, other, medical, renewable_energy, moving, small_business\n",
    "\n",
    "## Result\n",
    "### Once all the loans are selected, return the actual observed profit after accounting for defaults\n",
    "|Calculate Return (button)|\n",
    "|---|\n",
    "|$Float (Float % Return)|"
   ]
  },
  {
   "cell_type": "code",
   "execution_count": null,
   "metadata": {
    "collapsed": true
   },
   "outputs": [],
   "source": []
  },
  {
   "cell_type": "markdown",
   "metadata": {},
   "source": [
    "# Mode: with ML\n",
    "\n",
    "## Select Mode\n",
    "|Without ML|With ML|Optimized|\n",
    "|---|---|---|\n",
    "||☑️ | | |\n",
    "## Filters\n",
    "|Loan Amount|Default Risk Tolerance|\n",
    "|---|---|\n",
    "|<5k, <10k, <15k, <20k, <25k, <30k, <35k| <10%, <20%, <30%, <40%|\n",
    "\n",
    "\n",
    "## Available Loans\n",
    "_Same table as \"without ML\" mode_ plus...\n",
    "\n",
    "Shade each row according to P(default). You can use a color colormap shading like:\n",
    "\n",
    "* P(default) < 5%, dark green\n",
    "* P(default) < 10%, light green\n",
    "* P(default) < 15%, orange \n",
    "* P(default) < 20%, light red\n",
    "* P(default) < 25%, dark red\n",
    "\n",
    "**(or whatever color map you think works best)**\n",
    "\n",
    "## Result\n",
    "### Once all the loans are selected, return the actual observed profit after accounting for defaults\n",
    "_Same as \"without ML\" mode_"
   ]
  },
  {
   "cell_type": "code",
   "execution_count": null,
   "metadata": {
    "collapsed": true
   },
   "outputs": [],
   "source": []
  },
  {
   "cell_type": "markdown",
   "metadata": {},
   "source": [
    "# Mode: Optimized\n",
    "\n",
    "## Select Mode\n",
    "|Without ML|With ML|Optimized|\n",
    "|---|---|---|\n",
    "|| |☑️ |\n",
    "## Filters\n",
    "|Default Risk Tolerance|\n",
    "|---|---|\n",
    "|<10%, <20%, <30%, <40%|\n",
    "\n",
    "\n",
    "## Available Loans\n",
    "_Same table as \"with ML\" mode_ plus...\n",
    "\n",
    "* Add an extra columns for Expected Profit (USD) and \"Expected Profit (%).\n",
    "* Reorder loans in descending order of \"Expected Profit (USD)\". Apply color map scaling to \"Expected Profit (USD)\" as well.\n",
    "\n",
    "* Bonus: clicking or hovering over loan will display a tooltip or sidebar of Skater/Lime style model interpretation for that particular instance.\n",
    "\n",
    "\n",
    "## Result\n",
    "### Once all the loans are selected, return the actual observed profit after accounting for defaults\n",
    "_Same as \"without ML\" mode_"
   ]
  },
  {
   "cell_type": "code",
   "execution_count": null,
   "metadata": {
    "collapsed": true
   },
   "outputs": [],
   "source": []
  }
 ],
 "metadata": {
  "kernelspec": {
   "display_name": "Python 2",
   "language": "python",
   "name": "python2"
  },
  "language_info": {
   "codemirror_mode": {
    "name": "ipython",
    "version": 2
   },
   "file_extension": ".py",
   "mimetype": "text/x-python",
   "name": "python",
   "nbconvert_exporter": "python",
   "pygments_lexer": "ipython2",
   "version": "2.7.13"
  }
 },
 "nbformat": 4,
 "nbformat_minor": 2
}
