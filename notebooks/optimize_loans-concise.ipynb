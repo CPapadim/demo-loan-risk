{
 "cells": [
  {
   "cell_type": "code",
   "execution_count": 1,
   "metadata": {
    "collapsed": false
   },
   "outputs": [],
   "source": [
    "from __future__ import division\n",
    "import glob\n",
    "import os\n",
    "import pandas as pd\n",
    "import numpy as np\n",
    "from scipy.stats import binned_statistic, linregress\n",
    "from scipy.stats import randint as sp_randint\n",
    "from sklearn.ensemble import RandomForestClassifier\n",
    "from sklearn.model_selection import GridSearchCV, RandomizedSearchCV, train_test_split\n",
    "import seaborn as sns\n",
    "import statsmodels.api as sm\n",
    "from IPython.display import clear_output, Image\n",
    "\n",
    "from s3_connect import s3_connect\n",
    "\n",
    "import plotly.plotly as py\n",
    "import plotly.graph_objs as go\n",
    "from plotly.offline import download_plotlyjs, init_notebook_mode, plot, iplot\n",
    "\n",
    "from EDA_plotting_functions import (make_kdeplot, default_rate_binned_barplot, default_rate_categorical_barplot, \n",
    "                                   default_rate_by_state)\n",
    "\n",
    "init_notebook_mode(connected=True)\n",
    "\n",
    "tmp_localdir = '~/'\n",
    "\n",
    "pd.options.display.max_columns = 999\n",
    "\n",
    "%pylab inline\n",
    "clear_output()"
   ]
  },
  {
   "cell_type": "markdown",
   "metadata": {},
   "source": [
    "# Optimization Introduction\n",
    "Now that we have explored the relationship between loan features and default rates, we can begin exploiting this information to choose to fund loans that will maximize our ROI. To do so, we will need to know the reward / risk of each loan. This notebook serves as deep dive into how one can use machine learning to guide your selection towards loans with favorable reward to risk profiles.\n",
    "\n",
    "Briefly, deriving the reward for a loan is straightfoward: given the interest rate and loan principal, one can compute the final amount paid back to the lender. \n",
    "\n",
    "Deriving the risk for a loan requires more sophistication: we will pass multitude of features through a machine learning model to accurately predict the probability of default."
   ]
  },
  {
   "cell_type": "markdown",
   "metadata": {},
   "source": [
    "# Querying Our Deploy Model \n",
    "\n",
    "For this report we will be calling the deployed API we setup for our loan default prediction model. The model can be called programmatically in python using the following API endpoint.\n",
    "\n",
    "```python\n",
    "body = requests.post('https://beta.datascience.com/deploy/deploy-predict-default-probabili-849-v3/', \n",
    "                     json={\"data\": [ data ] },\n",
    "                     cookies={'datascience-platform': secret_token}\n",
    "```"
   ]
  },
  {
   "cell_type": "code",
   "execution_count": 2,
   "metadata": {
    "collapsed": false
   },
   "outputs": [],
   "source": [
    "s3_conn = s3_connect(access=os.environ['AWS_CLOUD_BUCKET_KEY'],\n",
    "                     secret=os.environ['AWS_CLOUD_BUCKET_SECRET_KEY'],\n",
    "                     bucketname='ds-cloud-public-shared')\n",
    "\n",
    "dat = s3_conn.pull_pickle_from_s3(key='demos/loan-risk/data/split_data.p',tmp_localdir=tmp_localdir)\n",
    "clf = s3_conn.pull_pickle_from_s3(key='demos/loan-risk/models/RF.p',tmp_localdir=tmp_localdir)\n",
    "clear_output()"
   ]
  },
  {
   "cell_type": "markdown",
   "metadata": {},
   "source": [
    "# Optimizing Loan Choices Visually\n",
    "Before we dive into automated optimization of our loan selections, let's build an intuition with a visual example. We will be using optimizing three variables to select the best loans:\n",
    "\n",
    "1. Interest Rate (maximize)\n",
    "2. Loan Amount (maximize)\n",
    "3. Probability of Default (minimize)\n",
    "\n",
    "We can visualize these three dimensions in the scatter plot below. Interest rate and default probability are plotted on the x- and y-axis, respectively, and the circle size represents loan amount. Ideally, we will select loans in the lower-right corner with big circles. \n",
    "\n",
    "There may be instances were we might want to fund a riskier loan with a higher interest rate or a safer loan with a lower interest rate. To represent this tradeoff, a linear model was fit to the data (solid fit line), and a confidence interval was plotted below (dotted ROI Threshold line). Any loans below this line have the best reward to risk profile and may make excellent loan selections. "
   ]
  },
  {
   "cell_type": "code",
   "execution_count": 3,
   "metadata": {
    "collapsed": true
   },
   "outputs": [],
   "source": [
    "n_samples = 5000\n",
    "np.random.seed(6)\n",
    "inds = np.random.choice(range(dat['X_train'].shape[0]), size=n_samples, replace=False)\n",
    "p_default = [loan[1] for loan in clf.predict_proba(dat['X_train'].values[inds])]\n",
    "df_predict = pd.DataFrame({'p_default':p_default, 'int_rate':dat['X_train'].iloc[inds]['int_rate'].values,\n",
    "                              'loan_amnt':dat['X_train'].iloc[inds]['loan_amnt'].values, 'default':dat['y_train'].iloc[inds].values,\n",
    "                             'term':[36 if term==1 else 60 for term in dat['X_train'].iloc[inds]['term_ 36 months'].values]})"
   ]
  },
  {
   "cell_type": "code",
   "execution_count": 4,
   "metadata": {
    "collapsed": false
   },
   "outputs": [],
   "source": [
    "xi = df_predict['int_rate']\n",
    "y = df_predict['p_default']\n",
    "marker_size = df_predict['loan_amnt']/ np.mean(df_predict['loan_amnt'])\n",
    "\n",
    "# Compute linear regression\n",
    "model = sm.OLS(y,sm.add_constant(xi, prepend=False))\n",
    "result = model.fit()\n",
    "slope = result.params.ix['int_rate']\n",
    "\n",
    "# Compute best fit lines\n",
    "line = result.params[0]*xi+result.params[1]\n",
    "\n",
    "low_risk_y = slope*xi+result.conf_int().ix['const'][0]*3\n",
    "med_risk_y = slope*xi+result.conf_int().ix['const'][0]*2\n",
    "high_risk_y = slope*xi+result.conf_int().ix['const'][0]*1\n",
    "\n",
    "clear_output()"
   ]
  },
  {
   "cell_type": "code",
   "execution_count": 5,
   "metadata": {
    "collapsed": false
   },
   "outputs": [
    {
     "data": {
      "text/html": [
       "<iframe id=\"igraph\" scrolling=\"no\" style=\"border:none;\" seamless=\"seamless\" src=\"https://plot.ly/~bretto777/2761.embed\" height=\"525px\" width=\"100%\"></iframe>"
      ],
      "text/plain": [
       "<plotly.tools.PlotlyDisplay object>"
      ]
     },
     "execution_count": 5,
     "metadata": {},
     "output_type": "execute_result"
    }
   ],
   "source": [
    "trace1a = go.Scatter(\n",
    "    x = xi,\n",
    "    y = y, \n",
    "    mode = 'markers',\n",
    "    marker = dict(\n",
    "        line = dict(width = 1),\n",
    "        size = marker_size*5,\n",
    "    ),\n",
    "    name='Loan Amount'\n",
    ")\n",
    "\n",
    "trace2a = go.Scatter(\n",
    "                x = xi,\n",
    "                y = line,\n",
    "                  mode='lines',\n",
    "                  marker=go.Marker(color='rgb(31, 119, 180)'),\n",
    "                  name='Linear Fit'\n",
    "                  )\n",
    "\n",
    "\n",
    "low_risk_linea = [dict(type='line',\n",
    "                 xref='x', yref='y',\n",
    "                 x0=min(xi), y0=min(low_risk_y),\n",
    "                 x1=max(xi), y1=max(low_risk_y), \n",
    "                 line=dict(color='#ff0000', dash='dot')),\n",
    "                \n",
    "                dict(type='line',\n",
    "                 xref='x', yref='y',\n",
    "                 x0=min(xi), y0=min(low_risk_y),\n",
    "                 x1=max(xi), y1=max(low_risk_y), \n",
    "                 line=dict(color='#ff0000', dash='dot')),\n",
    "                 \n",
    "                ]\n",
    "                      \n",
    "med_risk_linea = [dict(type='line',\n",
    "                 xref='x', yref='y',                      \n",
    "                 x0=min(xi), y0=min(med_risk_y),\n",
    "                 x1=max(xi), y1=max(med_risk_y), \n",
    "                 line=dict(color='#ff0000', dash='dot'))]\n",
    "\n",
    "high_risk_linea = [dict(type='line',\n",
    "                 xref='x', yref='y',                       \n",
    "                 x0=min(xi), y0=min(high_risk_y),\n",
    "                 x1=max(xi), y1=max(high_risk_y), \n",
    "                 line=dict(color='#ff0000', dash='dot'))\n",
    "                 ]\n",
    "\n",
    "updatemenusa = list([\n",
    "    dict(type=\"buttons\",\n",
    "        x = 0.3,\n",
    "        xanchor = 'left',\n",
    "        y = 1.0,\n",
    "        yanchor = 'top',\n",
    "        direction = 'left',\n",
    "         buttons=list([\n",
    "                    \n",
    "            dict(label = 'Low Risk',\n",
    "                 method = 'relayout',\n",
    "                 args = ['shapes', low_risk_linea]),\n",
    "                    \n",
    "            dict(label = 'Medium Risk',\n",
    "                 method = 'relayout',\n",
    "                 args = ['shapes', med_risk_linea]),\n",
    "                    \n",
    "            dict(label = 'High Risk',\n",
    "                 method = 'relayout',\n",
    "                 args = ['shapes', high_risk_linea])\n",
    "        ]),\n",
    "    )\n",
    "])\n",
    "\n",
    "\n",
    "layouta = go.Layout(\n",
    "                plot_bgcolor='rgb(229, 229, 229)',\n",
    "\n",
    "                title='Finding High ROI Loans',\n",
    "                xaxis={'title':'Interest Rate', 'zerolinecolor':'rgb(255,255,255)', 'gridcolor':'rgb(255,255,255)',\n",
    "                      'range':[5, 28]},\n",
    "                yaxis={'title':'Probability of Default', 'zerolinecolor':'rgb(255,255,255)', 'gridcolor':'rgb(255,255,255)',\n",
    "                      'range':[0, 0.6]},\n",
    "\n",
    "                updatemenus=updatemenusa,\n",
    "        \n",
    "                 annotations=[\n",
    "        dict(\n",
    "            x=21.75,\n",
    "            y=0.185,\n",
    "            xref='x',\n",
    "            yref='y',\n",
    "            text='High ROI',\n",
    "            showarrow=True,\n",
    "            arrowhead=0.2,\n",
    "            ax=20,\n",
    "            ay=30\n",
    "        ),\n",
    "        dict(\n",
    "            x=25,\n",
    "            y=0.035,\n",
    "            xref='x',\n",
    "            yref='y',\n",
    "            text='Low Risk, High Return👍 ',\n",
    "            showarrow=False,\n",
    "            \n",
    "            font=dict(\n",
    "                size=14,\n",
    "                color='#030000'\n",
    "            ),\n",
    "            \n",
    "            bordercolor='#030000',\n",
    "            borderwidth=2,\n",
    "            borderpad=4,\n",
    "            bgcolor='#3dff5d',\n",
    "            opacity=0.8            \n",
    "        ),\n",
    "        dict(\n",
    "            x=8,\n",
    "            y=0.565,\n",
    "            xref='x',\n",
    "            yref='y',\n",
    "            text='High Risk, Low Return👎',\n",
    "            showarrow=False,\n",
    "            \n",
    "            font=dict(\n",
    "                size=14,\n",
    "                color='#030000'\n",
    "            ),\n",
    "            bordercolor='#030000',\n",
    "            borderwidth=2,\n",
    "            borderpad=4,\n",
    "            bgcolor='#ff433d',\n",
    "            opacity=0.8\n",
    "        )])\n",
    "\n",
    "dataa = [trace1a, trace2a]#, trace3]\n",
    "figa = go.Figure(data=dataa, layout=layouta)\n",
    "\n",
    "py.iplot(figa, filename='compare_webgl')"
   ]
  },
  {
   "cell_type": "markdown",
   "metadata": {},
   "source": [
    "# Invest in loans with the highest expected profit.\n",
    "\n",
    "By taking into account the probability of default and how much we stand to profit for each loan, we can calculate the expected profit for each loan. We can pick out the loans with the highest expected profit to maximize our return. \n",
    "\n",
    "\n",
    "<a href=\"https://demo.datascience.com/project/optimizing-your-investment-strategy/outputs/expected-profit-deep-dive-UG9zdFR5cGU6MTUz\" target=\"_blank\"><b>See here for a deep dive into our methodology for calculating expected profit.</b></a>\n",
    "\n",
    "\n",
    "While this method will **on average** produce the highest return, some investors may still want throttle their risk tolerance. As a result, it is still useful to plot probability of default versus expected profit. The figure below does just that, while allowing the user to specify a risk tolerance (horizontal lines)."
   ]
  },
  {
   "cell_type": "code",
   "execution_count": 6,
   "metadata": {
    "collapsed": true
   },
   "outputs": [],
   "source": [
    "# Do expectation calculations\n",
    "p = df_predict['loan_amnt']\n",
    "r = df_predict['int_rate'] / 12 / 100\n",
    "n = df_predict['term']\n",
    "\n",
    "payment = p * (r * (1+r)**n) / ((1+r)**n -1)\n",
    "\n",
    "df_predict['profit'] = (n * payment) - p\n",
    "\n",
    "df_predict['expected_profit'] = ( (1 - df_predict['p_default']) * df_predict['profit']) - (df_predict['p_default'] * df_predict['loan_amnt'])"
   ]
  },
  {
   "cell_type": "code",
   "execution_count": 7,
   "metadata": {
    "collapsed": false
   },
   "outputs": [
    {
     "data": {
      "text/html": [
       "<iframe id=\"igraph\" scrolling=\"no\" style=\"border:none;\" seamless=\"seamless\" src=\"https://plot.ly/~bretto777/2836.embed\" height=\"525px\" width=\"100%\"></iframe>"
      ],
      "text/plain": [
       "<plotly.tools.PlotlyDisplay object>"
      ]
     },
     "execution_count": 7,
     "metadata": {},
     "output_type": "execute_result"
    }
   ],
   "source": [
    "marker_size = df_predict['loan_amnt'] / np.mean(df_predict['loan_amnt'])\n",
    "\n",
    "trace0 = go.Scatter(\n",
    "    x = df_predict['expected_profit'],\n",
    "    y = df_predict['p_default'],\n",
    "    mode = 'markers',\n",
    "    marker = dict(\n",
    "        line = dict(width = 1),\n",
    "        size = marker_size*5,\n",
    "    ),\n",
    "    name='Loan Amount'\n",
    ")\n",
    "\n",
    "\n",
    "low_risk_line = [dict(type='line',\n",
    "                 xref='x', yref='y',\n",
    "                 x0=min(df_predict['expected_profit'])-1000, y0=0.1,\n",
    "                 x1=max(df_predict['expected_profit'])+1000, y1=0.1, \n",
    "                 line=dict(color='#ff0000', dash='dot'))]\n",
    "                      \n",
    "med_risk_line = [dict(type='line',\n",
    "                 xref='x', yref='y',\n",
    "                 x0=min(df_predict['expected_profit'])-1000, y0=0.2,\n",
    "                 x1=max(df_predict['expected_profit'])+1000, y1=0.2, \n",
    "                 line=dict(color='#ff0000', dash='dot'))]\n",
    "\n",
    "high_risk_line = [dict(type='line',\n",
    "                 xref='x', yref='y',\n",
    "                 x0=min(df_predict['expected_profit'])-1000, y0=0.3,\n",
    "                 x1=max(df_predict['expected_profit'])+1000, y1=0.3, \n",
    "                 line=dict(color='#ff0000', dash='dot'))]\n",
    "\n",
    "updatemenus = list([\n",
    "    dict(type=\"buttons\",\n",
    "        x = 0.3,\n",
    "        xanchor = 'left',\n",
    "        y = 1.0,\n",
    "        yanchor = 'top',\n",
    "        direction = 'left',\n",
    "         buttons=list([\n",
    "                    \n",
    "            dict(label = 'Low Risk',\n",
    "                 method = 'relayout',\n",
    "                 args = ['shapes', low_risk_line]),\n",
    "                    \n",
    "            dict(label = 'Medium Risk',\n",
    "                 method = 'relayout',\n",
    "                 args = ['shapes', med_risk_line]),\n",
    "                    \n",
    "            dict(label = 'High Risk',\n",
    "                 method = 'relayout',\n",
    "                 args = ['shapes', high_risk_line])\n",
    "        ]),\n",
    "    )\n",
    "])\n",
    "\n",
    "\n",
    "layout = dict(\n",
    "                plot_bgcolor='rgb(229, 229, 229)',\n",
    "\n",
    "                title='P(default), Loan Amount, and Expected Profit',\n",
    "                xaxis={'title':'Expected Profit', 'zerolinecolor':'rgb(255,255,255)', 'gridcolor':'rgb(255,255,255)'},\n",
    "                yaxis={'title':'Probability of Default', 'zerolinecolor':'rgb(255,255,255)', 'gridcolor':'rgb(255,255,255)'},\n",
    "                \n",
    "                updatemenus=updatemenus,\n",
    "                \n",
    "                annotations=[\n",
    "        dict(\n",
    "            x=11713,\n",
    "            y=0.19,\n",
    "            xref='x',\n",
    "            yref='y',\n",
    "            text='High ROI',\n",
    "            showarrow=True,\n",
    "            arrowhead=0.2,\n",
    "            ax=-40,\n",
    "            ay=30\n",
    "        ),\n",
    "        dict(\n",
    "            x=9750,\n",
    "            y=0.02,\n",
    "            xref='x',\n",
    "            yref='y',\n",
    "            text='Low Risk, High Return👍 ',\n",
    "            showarrow=False,\n",
    "            \n",
    "            font=dict(\n",
    "                size=14,\n",
    "                color='#030000'\n",
    "            ),\n",
    "            \n",
    "            bordercolor='#030000',\n",
    "            borderwidth=2,\n",
    "            borderpad=4,\n",
    "            bgcolor='#3dff5d',\n",
    "            opacity=0.8            \n",
    "        ),\n",
    "        dict(\n",
    "            x=-7500,\n",
    "            y=0.65,\n",
    "            xref='x',\n",
    "            yref='y',\n",
    "            text='High Risk, Low Return👎',\n",
    "            showarrow=False,\n",
    "            \n",
    "            font=dict(\n",
    "                size=14,\n",
    "                color='#030000'\n",
    "            ),\n",
    "            bordercolor='#030000',\n",
    "            borderwidth=2,\n",
    "            borderpad=4,\n",
    "            bgcolor='#ff433d',\n",
    "            opacity=0.8\n",
    "        )]\n",
    "                \n",
    "    \n",
    "                )\n",
    "\n",
    "data = [trace0]\n",
    "fig = go.Figure(data=data, layout=layout)\n",
    "\n",
    "py.iplot(fig, filename='compare_webgl2')"
   ]
  },
  {
   "cell_type": "markdown",
   "metadata": {},
   "source": [
    "While choosing loans with a fairly conservative produces lower yield on average, one can be more certain of a favorable payout. Illustrated below is the expected ROI (%) after funding the 10 loans with the greatest expected profit that meet 3 different risk tolerance thresholds."
   ]
  },
  {
   "cell_type": "code",
   "execution_count": 8,
   "metadata": {
    "collapsed": false
   },
   "outputs": [],
   "source": [
    "thresholds = [0.1, 0.2, 0.3]\n",
    "principal = []\n",
    "profit = []\n",
    "n_loans = 10\n",
    "for thresh in thresholds:\n",
    "    top_loans = df_predict.ix[df_predict['p_default']<thresh].sort_values('expected_profit', ascending=False).iloc[:n_loans]\n",
    "    principal.append(np.sum(top_loans['loan_amnt']))\n",
    "    profit.append(np.sum(top_loans['expected_profit']))\n",
    "    \n",
    "p_thresholds_df = pd.DataFrame({'principal':principal, 'profit':profit},index=thresholds)\n",
    "clear_output()"
   ]
  },
  {
   "cell_type": "code",
   "execution_count": 9,
   "metadata": {
    "collapsed": false,
    "scrolled": false
   },
   "outputs": [
    {
     "data": {
      "text/html": [
       "<iframe id=\"igraph\" scrolling=\"no\" style=\"border:none;\" seamless=\"seamless\" src=\"https://plot.ly/~bretto777/2723.embed\" height=\"525px\" width=\"100%\"></iframe>"
      ],
      "text/plain": [
       "<plotly.tools.PlotlyDisplay object>"
      ]
     },
     "execution_count": 9,
     "metadata": {},
     "output_type": "execute_result"
    }
   ],
   "source": [
    "trace1 = go.Bar(\n",
    "    x=map(lambda x:'< ' + str(int(x*100))+'%',thresholds),\n",
    "    y=100*p_thresholds_df['profit']/p_thresholds_df['principal'],\n",
    ")\n",
    "\n",
    "data = [trace1]\n",
    "layout = go.Layout(\n",
    "    xaxis={'type':'category',\n",
    "          'title':'Probability of Default Threshold'},\n",
    "    yaxis={'title':'ROI (%)'},\n",
    "    title='Expected return at different risk tolerances'\n",
    ")\n",
    "\n",
    "fig = go.Figure(data=data, layout=layout)\n",
    "py.iplot(fig, filename='stacked-bar')"
   ]
  },
  {
   "cell_type": "markdown",
   "metadata": {},
   "source": [
    "## Validate\n",
    "\n",
    "We've seen that machine learning can help guide us towards loans with high expected profit. However, how well does this generalize to new data? This is what we really care about if we want to use this model for future investments.\n",
    "\n",
    "To validate our model, we ran the following experiment:\n",
    "1. We started with a bankroll of 1M USD\n",
    "2. Grabbed a random sample of 100 loans from our testing set, simulating a daily batch of possible loans.\n",
    "3. For our test group, we selected the loans with the best E[profit] until our bankroll was exhausted. For our control group, we randomly selected loans to fund.\n",
    "4. We then calculated the actual profit for each group based on the observed default labels in the test set.\n",
    "5. Finally, we repeated steps 2-4 for 10K iterations. The bar heights and error bars represent the mean and standard error for each of these groups, respectively. \n",
    "\n",
    "### Without a doubt, our model out performed random guessing, consistently yielding a return of nearly 4% over the long term.\n",
    "\n",
    "This is just a floor. With further optimization and model selection as well as feature engineering, one can improve how P(default) is modeled. Also, more advanced techniques of model selection can be implemented, such as diversifying one's risk further by investing only $X in each loan."
   ]
  },
  {
   "cell_type": "code",
   "execution_count": 10,
   "metadata": {
    "collapsed": true
   },
   "outputs": [],
   "source": [
    "# Create new data frame for unseen data\n",
    "p_default = [loan[1] for loan in clf.predict_proba(dat['X_test'].values)]\n",
    "\n",
    "df_predict = pd.DataFrame({'p_default':p_default, 'int_rate':dat['X_test']['int_rate'].values,\n",
    "                              'loan_amnt':dat['X_test']['loan_amnt'].values, 'default':dat['y_test'].values,\n",
    "                             'term':[36 if term==1 else 60 for term in dat['X_test']['term_ 36 months'].values]})\n",
    "\n",
    "p = df_predict['loan_amnt']\n",
    "r = df_predict['int_rate'] / 12 / 100\n",
    "n = df_predict['term']\n",
    "\n",
    "payment = p * (r * (1+r)**n) / ((1+r)**n -1)\n",
    "\n",
    "df_predict['profit'] = (n * payment) - p\n",
    "df_predict['expected_profit'] = ( (1 - df_predict['p_default']) * df_predict['profit']) - (df_predict['p_default'] * df_predict['loan_amnt'])"
   ]
  },
  {
   "cell_type": "code",
   "execution_count": 11,
   "metadata": {
    "collapsed": false
   },
   "outputs": [],
   "source": [
    "def calc_profit(df):\n",
    "    return sum(df.ix[df['default']==0]['profit']) - sum(df.ix[df['default']==1]['loan_amnt'])\n",
    "\n",
    "\n",
    "bankroll = 1000000\n",
    "\n",
    "# best_loans = df_predict.ix[df_predict.sort_values('expected_profit',ascending=False)['loan_amnt'].cumsum()<bankroll]\n",
    "# optimized_profit = (calc_profit(best_loans)/sum(best_loans['loan_amnt']))\n",
    "\n",
    "# Randomize\n",
    "def experiment_profits(df_predict):\n",
    "    \n",
    "    rand = []\n",
    "    opt = []\n",
    "    \n",
    "    for n in range(10000):\n",
    "        \n",
    "        # Random sample\n",
    "        df_subsample = df_predict.sample(100)\n",
    "        \n",
    "        random_loans = df_subsample.ix[df_subsample['loan_amnt'].cumsum()<bankroll]\n",
    "        rand.append(calc_profit(random_loans)/sum(random_loans['loan_amnt']))\n",
    "\n",
    "        #Optimize\n",
    "        df_subsample = df_subsample.sort_values('expected_profit',ascending=False)\n",
    "        opt_loans = df_subsample.ix[df_subsample['loan_amnt'].cumsum()<bankroll]\n",
    "        opt.append(calc_profit(opt_loans)/sum(opt_loans['loan_amnt']))\n",
    "\n",
    "    return np.array(opt), np.array(rand)\n",
    "\n",
    "optimized_profit, random_profits = experiment_profits(df_predict)\n",
    "\n",
    "clear_output()"
   ]
  },
  {
   "cell_type": "code",
   "execution_count": 12,
   "metadata": {
    "collapsed": false
   },
   "outputs": [
    {
     "data": {
      "text/html": [
       "<iframe id=\"igraph\" scrolling=\"no\" style=\"border:none;\" seamless=\"seamless\" src=\"https://plot.ly/~bretto777/2806.embed\" height=\"525px\" width=\"100%\"></iframe>"
      ],
      "text/plain": [
       "<plotly.tools.PlotlyDisplay object>"
      ]
     },
     "execution_count": 12,
     "metadata": {},
     "output_type": "execute_result"
    }
   ],
   "source": [
    "trace1 = go.Bar(\n",
    "    x=['Random Guessing', 'Optimized Selection'],\n",
    "    y=[np.mean(random_profits)*100, np.mean(optimized_profit)*100],\n",
    "    name='Control',\n",
    "    error_y=dict(\n",
    "        type='data',\n",
    "        array=[np.std(random_profits)*100/len(random_profits)**0.5, np.std(optimized_profit)*100/len(optimized_profit)**0.5],\n",
    "        visible=True\n",
    "    )\n",
    ")\n",
    "\n",
    "data = [trace1]\n",
    "\n",
    "layout = go.Layout(\n",
    "    xaxis={'title':''},\n",
    "    yaxis={'title':'ROI (%)'},\n",
    "    title='Validating Loan Selection'\n",
    ")\n",
    "\n",
    "fig = go.Figure(data=data, layout=layout)\n",
    "py.iplot(fig, filename='error-bar-bar')"
   ]
  },
  {
   "cell_type": "markdown",
   "metadata": {},
   "source": [
    "# Profit\n",
    "\n",
    "Now that we have validated the efficacy of our model, we can deploy it into production. Every day new loans are made available on Lending Club for investors to fund. With this deployed model, the savvy investor can schedule a script run at the percise time these loans are posted that will pass the loan data through the model, calculate expected profit, and fund the loan if it looks profitable. All of this can be done in seconds using the platforms deploy and scheduled runs apps, giving you an edge over your investor competition."
   ]
  },
  {
   "cell_type": "markdown",
   "metadata": {},
   "source": [
    "# Next Steps: Scheduled Run\n",
    "\n",
    "Let's use the data science platform to set up a job that runs every day at 8:00 AM PST when a new daily batch of loans is available. Our script will pull the loan data from the Lending Club API, use our deployed model API to score the expected profit for each loan, and return the loan ideas of the most attractive loans.\n",
    "\n",
    "### <a href=\"https://demo.datascience.com/project/optimizing-your-investment-strategy/job/daily-loan-scoring-166439\" target=\"_blank\">Click here to see the scheduled run interface.</a>\n",
    "\n",
    "\n",
    "\n",
    "### <a href=\"https://demo.datascience.com/project/optimizing-your-investment-strategy/outputs/july-20th-scheduled-run-summary-UG9zdFR5cGU6MTUy\" target=\"_blank\">Click here to see the report from one of the runs.</a>"
   ]
  },
  {
   "cell_type": "code",
   "execution_count": null,
   "metadata": {
    "collapsed": true
   },
   "outputs": [],
   "source": []
  }
 ],
 "metadata": {
  "kernelspec": {
   "display_name": "Python 2",
   "language": "python",
   "name": "python2"
  },
  "language_info": {
   "codemirror_mode": {
    "name": "ipython",
    "version": 2
   },
   "file_extension": ".py",
   "mimetype": "text/x-python",
   "name": "python",
   "nbconvert_exporter": "python",
   "pygments_lexer": "ipython2",
   "version": "2.7.13"
  }
 },
 "nbformat": 4,
 "nbformat_minor": 2
}
