{
 "cells": [
  {
   "cell_type": "code",
   "execution_count": 3,
   "metadata": {
    "collapsed": false
   },
   "outputs": [],
   "source": [
    "from __future__ import division\n",
    "import glob\n",
    "import os\n",
    "import pandas as pd\n",
    "import numpy as np\n",
    "from scipy.stats import binned_statistic, linregress\n",
    "from scipy.stats import randint as sp_randint\n",
    "from sklearn.ensemble import RandomForestClassifier\n",
    "from sklearn.model_selection import GridSearchCV, RandomizedSearchCV, train_test_split\n",
    "import seaborn as sns\n",
    "import statsmodels.api as sm\n",
    "from IPython.display import clear_output, Image\n",
    "\n",
    "from s3_connect import s3_connect\n",
    "\n",
    "import plotly.plotly as py\n",
    "import plotly.graph_objs as go\n",
    "from plotly.offline import download_plotlyjs, init_notebook_mode, plot, iplot\n",
    "\n",
    "from EDA_plotting_functions import (make_kdeplot, default_rate_binned_barplot, default_rate_categorical_barplot, \n",
    "                                   default_rate_by_state)\n",
    "\n",
    "init_notebook_mode(connected=True)\n",
    "\n",
    "tmp_localdir = '~/'\n",
    "\n",
    "pd.options.display.max_columns = 999\n",
    "\n",
    "%pylab inline\n",
    "clear_output()"
   ]
  },
  {
   "cell_type": "markdown",
   "metadata": {},
   "source": [
    "# Optimizing Loan Choices\n",
    "Now that we have established an intuition about what makes a loan attractive, let's deep dive into how we would make automated loan selections. This can be accomplished with the following steps:\n",
    "1. Compute loan amortization for each loan.\n",
    "2. Extrapolate potential profit for each loan assuming repayment.\n",
    "3. Calculate expected profit based on modeled default probability.\n",
    "4. Invest in loans with the highest expected profit."
   ]
  },
  {
   "cell_type": "markdown",
   "metadata": {},
   "source": [
    "## 1. Compute loan amortization for each loan.\n",
    "\n",
    "We will need to know the monthly payment for each loan before we can calculate potential profit. \n",
    "\n",
    "Although this information is not avaiable in the data, it can be calculated using the following amortization formula:\n",
    "\n",
    "* p = principal amount\n",
    "* i = interest rate\n",
    "* n = total number of payments\n",
    "\n",
    "$$\\Large payment = p\\frac{i(1+i)^n}{(1+i)^n-1}$$"
   ]
  },
  {
   "cell_type": "markdown",
   "metadata": {},
   "source": [
    "## 2. Extrapolate potential profit for each loan assuming repayment.\n",
    "We can calculate the profit by multiplying the monthly loan payment amount by the life of the loan and subtracting the principal:\n",
    "\n",
    "$$\\Large profit = (n * payment) - principal$$"
   ]
  },
  {
   "cell_type": "markdown",
   "metadata": {},
   "source": [
    "## 3. Calculate expected profit based on modeled default probability.\n",
    "We can now use our deployed machine learning model to assess risk. Given our model and a set of features for each loan, we can assign a probability of default to each loan, P(default). Using P(default), profit, and principal, we can estimate the amount of profit we can expect to receive after taking into account default risk. \n",
    "\n",
    "The expected profit has two terms: a repayment term (left) and a default term (right): \n",
    "1. We can expect the loan to be repayed with a probability of `1-P(default)`. By multiplying this probability by the total profit we stand to earn, `(1-P(default)) * profit`, we can observe the average profit we would receive if we simulated this process many times. \n",
    "2. On the other hand, we also know that a loan will default with `P(default)`. By multipying this probability by the principal `P(default) * principal`, we can observe the average loss we will accrue if we simulated this process many times.\n",
    "\n",
    "Finally, we subtract the expected loss from expected gain to observe the expected profit for a particular loan:\n",
    "\n",
    "$$\\Large E[profit] = [ (1-P(default)) * profit ] - [ P(default) * principal ]$$\n",
    "\n",
    "*Note: For simplicity we assume that the lender loses the entire principal in the event of a default.*"
   ]
  },
  {
   "cell_type": "markdown",
   "metadata": {
    "collapsed": false
   },
   "source": [
    "## 4. Invest in loans with the highest expected profit.\n",
    "\n",
    "Now that three decisions parameters (interest rate, loan amount, probability of default) have now been folded into a single metric, we can pick the loans with the highest expected profit to maximize our return. \n",
    "\n",
    "While this method will **on average** produce the highest return, some investors may still want throttle their risk tolerance."
   ]
  },
  {
   "cell_type": "markdown",
   "metadata": {},
   "source": [
    "While choosing loans with a fairly conservative produces lower yield on average, one can be more certain of a favorable payout. Illustrated below is the expected ROI (%) after funding the 10 loans with the greatest expected profit that meet 3 different risk tolerance thresholds."
   ]
  }
 ],
 "metadata": {
  "kernelspec": {
   "display_name": "Python 2",
   "language": "python",
   "name": "python2"
  },
  "language_info": {
   "codemirror_mode": {
    "name": "ipython",
    "version": 2
   },
   "file_extension": ".py",
   "mimetype": "text/x-python",
   "name": "python",
   "nbconvert_exporter": "python",
   "pygments_lexer": "ipython2",
   "version": "2.7.13"
  }
 },
 "nbformat": 4,
 "nbformat_minor": 2
}
